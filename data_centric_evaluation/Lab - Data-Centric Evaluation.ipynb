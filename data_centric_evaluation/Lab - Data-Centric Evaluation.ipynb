{
 "cells": [
  {
   "cell_type": "markdown",
   "id": "9ffd9348",
   "metadata": {},
   "source": [
    "# Lab - Data-Centric Evaluation of ML Models\n",
    "\n",
    "This lab is intended to accompany the lecture on Data-Centric Evaluation of ML Models. In this lab, you are given a training dataset and your goal is to improve the dataset in order to boost the accuracy of a fixed classification model on a given (fixed) test dataset. Reviewing the lecture notes will be helpful to get some ideas.\n",
    "\n",
    "You can get all the dependencies you need for this notebook by running:"
   ]
  },
  {
   "cell_type": "code",
   "execution_count": 26,
   "id": "158f9d1e",
   "metadata": {},
   "outputs": [
    {
     "name": "stdout",
     "output_type": "stream",
     "text": [
      "Requirement already satisfied: cleanlab in /usr/local/python/3.10.4/lib/python3.10/site-packages (2.3.0)\n",
      "Requirement already satisfied: matplotlib in /home/codespace/.local/lib/python3.10/site-packages (3.7.0)\n",
      "Requirement already satisfied: termcolor>=2.0.0 in /usr/local/python/3.10.4/lib/python3.10/site-packages (from cleanlab) (2.2.0)\n",
      "Requirement already satisfied: pandas>=1.1.5 in /home/codespace/.local/lib/python3.10/site-packages (from cleanlab) (1.5.3)\n",
      "Requirement already satisfied: tqdm>=4.53.0 in /usr/local/python/3.10.4/lib/python3.10/site-packages (from cleanlab) (4.65.0)\n",
      "Requirement already satisfied: numpy>=1.20.0 in /home/codespace/.local/lib/python3.10/site-packages (from cleanlab) (1.24.2)\n",
      "Requirement already satisfied: scikit-learn>=1.0 in /home/codespace/.local/lib/python3.10/site-packages (from cleanlab) (1.2.1)\n",
      "Requirement already satisfied: cycler>=0.10 in /home/codespace/.local/lib/python3.10/site-packages (from matplotlib) (0.11.0)\n",
      "Requirement already satisfied: fonttools>=4.22.0 in /home/codespace/.local/lib/python3.10/site-packages (from matplotlib) (4.38.0)\n",
      "Requirement already satisfied: pillow>=6.2.0 in /home/codespace/.local/lib/python3.10/site-packages (from matplotlib) (9.4.0)\n",
      "Requirement already satisfied: pyparsing>=2.3.1 in /home/codespace/.local/lib/python3.10/site-packages (from matplotlib) (3.0.9)\n",
      "Requirement already satisfied: python-dateutil>=2.7 in /home/codespace/.local/lib/python3.10/site-packages (from matplotlib) (2.8.2)\n",
      "Requirement already satisfied: kiwisolver>=1.0.1 in /home/codespace/.local/lib/python3.10/site-packages (from matplotlib) (1.4.4)\n",
      "Requirement already satisfied: contourpy>=1.0.1 in /home/codespace/.local/lib/python3.10/site-packages (from matplotlib) (1.0.7)\n",
      "Requirement already satisfied: packaging>=20.0 in /home/codespace/.local/lib/python3.10/site-packages (from matplotlib) (23.0)\n",
      "Requirement already satisfied: pytz>=2020.1 in /home/codespace/.local/lib/python3.10/site-packages (from pandas>=1.1.5->cleanlab) (2022.7.1)\n",
      "Requirement already satisfied: six>=1.5 in /home/codespace/.local/lib/python3.10/site-packages (from python-dateutil>=2.7->matplotlib) (1.16.0)\n",
      "Requirement already satisfied: scipy>=1.3.2 in /home/codespace/.local/lib/python3.10/site-packages (from scikit-learn>=1.0->cleanlab) (1.10.1)\n",
      "Requirement already satisfied: threadpoolctl>=2.0.0 in /home/codespace/.local/lib/python3.10/site-packages (from scikit-learn>=1.0->cleanlab) (3.1.0)\n",
      "Requirement already satisfied: joblib>=1.1.1 in /home/codespace/.local/lib/python3.10/site-packages (from scikit-learn>=1.0->cleanlab) (1.2.0)\n"
     ]
    }
   ],
   "source": [
    "!pip install cleanlab matplotlib"
   ]
  },
  {
   "cell_type": "code",
   "execution_count": 46,
   "id": "59acb88e",
   "metadata": {},
   "outputs": [],
   "source": [
    "import pandas as pd\n",
    "import numpy as np\n",
    "\n",
    "import sklearn\n",
    "from sklearn.neural_network import MLPClassifier\n",
    "from sklearn.metrics import balanced_accuracy_score, accuracy_score\n",
    "\n",
    "import matplotlib.pyplot as plt"
   ]
  },
  {
   "cell_type": "code",
   "execution_count": 47,
   "id": "9e608a19",
   "metadata": {},
   "outputs": [],
   "source": [
    "SEED = 123\n",
    "np.random.seed(SEED)  # for reproducibility"
   ]
  },
  {
   "cell_type": "markdown",
   "id": "b58f3d8a",
   "metadata": {},
   "source": [
    "# Load dataset\n",
    "\n",
    "The data come from a 3-class classification task where the goal is to predict `y` based on features `x1`, ..., `x5`.\n",
    "We convert the data to a numpy array format."
   ]
  },
  {
   "cell_type": "code",
   "execution_count": 53,
   "id": "aaf3eb22",
   "metadata": {},
   "outputs": [],
   "source": [
    "df = pd.read_csv(\"train.csv\")\n",
    "df_test = pd.read_csv(\"test.csv\")"
   ]
  },
  {
   "cell_type": "code",
   "execution_count": 54,
   "id": "922ccebe",
   "metadata": {},
   "outputs": [
    {
     "data": {
      "text/html": [
       "<div>\n",
       "<style scoped>\n",
       "    .dataframe tbody tr th:only-of-type {\n",
       "        vertical-align: middle;\n",
       "    }\n",
       "\n",
       "    .dataframe tbody tr th {\n",
       "        vertical-align: top;\n",
       "    }\n",
       "\n",
       "    .dataframe thead th {\n",
       "        text-align: right;\n",
       "    }\n",
       "</style>\n",
       "<table border=\"1\" class=\"dataframe\">\n",
       "  <thead>\n",
       "    <tr style=\"text-align: right;\">\n",
       "      <th></th>\n",
       "      <th>x0</th>\n",
       "      <th>x1</th>\n",
       "      <th>x2</th>\n",
       "      <th>x3</th>\n",
       "      <th>x4</th>\n",
       "      <th>x5</th>\n",
       "      <th>y</th>\n",
       "    </tr>\n",
       "  </thead>\n",
       "  <tbody>\n",
       "    <tr>\n",
       "      <th>0</th>\n",
       "      <td>-0.333489</td>\n",
       "      <td>-0.770208</td>\n",
       "      <td>-2.697486</td>\n",
       "      <td>-0.628563</td>\n",
       "      <td>-1.277720</td>\n",
       "      <td>100.0</td>\n",
       "      <td>2</td>\n",
       "    </tr>\n",
       "    <tr>\n",
       "      <th>1</th>\n",
       "      <td>-0.787124</td>\n",
       "      <td>1.230800</td>\n",
       "      <td>1.415472</td>\n",
       "      <td>-0.805927</td>\n",
       "      <td>0.175115</td>\n",
       "      <td>100.0</td>\n",
       "      <td>1</td>\n",
       "    </tr>\n",
       "    <tr>\n",
       "      <th>2</th>\n",
       "      <td>0.781197</td>\n",
       "      <td>-0.856227</td>\n",
       "      <td>2.138879</td>\n",
       "      <td>2.495417</td>\n",
       "      <td>0.868192</td>\n",
       "      <td>100.0</td>\n",
       "      <td>1</td>\n",
       "    </tr>\n",
       "    <tr>\n",
       "      <th>3</th>\n",
       "      <td>1.895093</td>\n",
       "      <td>-0.885939</td>\n",
       "      <td>1.946352</td>\n",
       "      <td>-2.082747</td>\n",
       "      <td>0.064914</td>\n",
       "      <td>100.0</td>\n",
       "      <td>1</td>\n",
       "    </tr>\n",
       "    <tr>\n",
       "      <th>4</th>\n",
       "      <td>0.689091</td>\n",
       "      <td>-5.091299</td>\n",
       "      <td>-2.218682</td>\n",
       "      <td>0.330767</td>\n",
       "      <td>3.012755</td>\n",
       "      <td>100.0</td>\n",
       "      <td>2</td>\n",
       "    </tr>\n",
       "  </tbody>\n",
       "</table>\n",
       "</div>"
      ],
      "text/plain": [
       "         x0        x1        x2        x3        x4     x5  y\n",
       "0 -0.333489 -0.770208 -2.697486 -0.628563 -1.277720  100.0  2\n",
       "1 -0.787124  1.230800  1.415472 -0.805927  0.175115  100.0  1\n",
       "2  0.781197 -0.856227  2.138879  2.495417  0.868192  100.0  1\n",
       "3  1.895093 -0.885939  1.946352 -2.082747  0.064914  100.0  1\n",
       "4  0.689091 -5.091299 -2.218682  0.330767  3.012755  100.0  2"
      ]
     },
     "execution_count": 54,
     "metadata": {},
     "output_type": "execute_result"
    }
   ],
   "source": [
    "df.head()"
   ]
  },
  {
   "cell_type": "code",
   "execution_count": 55,
   "id": "a22b105b",
   "metadata": {},
   "outputs": [
    {
     "data": {
      "text/html": [
       "<div>\n",
       "<style scoped>\n",
       "    .dataframe tbody tr th:only-of-type {\n",
       "        vertical-align: middle;\n",
       "    }\n",
       "\n",
       "    .dataframe tbody tr th {\n",
       "        vertical-align: top;\n",
       "    }\n",
       "\n",
       "    .dataframe thead th {\n",
       "        text-align: right;\n",
       "    }\n",
       "</style>\n",
       "<table border=\"1\" class=\"dataframe\">\n",
       "  <thead>\n",
       "    <tr style=\"text-align: right;\">\n",
       "      <th></th>\n",
       "      <th>x0</th>\n",
       "      <th>x1</th>\n",
       "      <th>x2</th>\n",
       "      <th>x3</th>\n",
       "      <th>x4</th>\n",
       "      <th>x5</th>\n",
       "      <th>y</th>\n",
       "    </tr>\n",
       "  </thead>\n",
       "  <tbody>\n",
       "    <tr>\n",
       "      <th>0</th>\n",
       "      <td>2.337701</td>\n",
       "      <td>-0.681121</td>\n",
       "      <td>1.883774</td>\n",
       "      <td>0.949812</td>\n",
       "      <td>-0.311507</td>\n",
       "      <td>-100.0</td>\n",
       "      <td>1</td>\n",
       "    </tr>\n",
       "    <tr>\n",
       "      <th>1</th>\n",
       "      <td>1.101249</td>\n",
       "      <td>-2.032961</td>\n",
       "      <td>0.344490</td>\n",
       "      <td>0.724925</td>\n",
       "      <td>1.355534</td>\n",
       "      <td>-100.0</td>\n",
       "      <td>2</td>\n",
       "    </tr>\n",
       "    <tr>\n",
       "      <th>2</th>\n",
       "      <td>1.791349</td>\n",
       "      <td>-2.808856</td>\n",
       "      <td>-1.409471</td>\n",
       "      <td>0.552069</td>\n",
       "      <td>0.433901</td>\n",
       "      <td>100.0</td>\n",
       "      <td>2</td>\n",
       "    </tr>\n",
       "    <tr>\n",
       "      <th>3</th>\n",
       "      <td>2.082599</td>\n",
       "      <td>0.811498</td>\n",
       "      <td>0.906920</td>\n",
       "      <td>-0.749352</td>\n",
       "      <td>1.974424</td>\n",
       "      <td>-100.0</td>\n",
       "      <td>2</td>\n",
       "    </tr>\n",
       "    <tr>\n",
       "      <th>4</th>\n",
       "      <td>1.214627</td>\n",
       "      <td>-0.448392</td>\n",
       "      <td>1.812024</td>\n",
       "      <td>0.429543</td>\n",
       "      <td>0.396450</td>\n",
       "      <td>-100.0</td>\n",
       "      <td>1</td>\n",
       "    </tr>\n",
       "  </tbody>\n",
       "</table>\n",
       "</div>"
      ],
      "text/plain": [
       "         x0        x1        x2        x3        x4     x5  y\n",
       "0  2.337701 -0.681121  1.883774  0.949812 -0.311507 -100.0  1\n",
       "1  1.101249 -2.032961  0.344490  0.724925  1.355534 -100.0  2\n",
       "2  1.791349 -2.808856 -1.409471  0.552069  0.433901  100.0  2\n",
       "3  2.082599  0.811498  0.906920 -0.749352  1.974424 -100.0  2\n",
       "4  1.214627 -0.448392  1.812024  0.429543  0.396450 -100.0  1"
      ]
     },
     "execution_count": 55,
     "metadata": {},
     "output_type": "execute_result"
    }
   ],
   "source": [
    "df_test.head()"
   ]
  },
  {
   "cell_type": "code",
   "execution_count": 57,
   "id": "bb082792",
   "metadata": {},
   "outputs": [
    {
     "data": {
      "text/html": [
       "<div>\n",
       "<style scoped>\n",
       "    .dataframe tbody tr th:only-of-type {\n",
       "        vertical-align: middle;\n",
       "    }\n",
       "\n",
       "    .dataframe tbody tr th {\n",
       "        vertical-align: top;\n",
       "    }\n",
       "\n",
       "    .dataframe thead th {\n",
       "        text-align: right;\n",
       "    }\n",
       "</style>\n",
       "<table border=\"1\" class=\"dataframe\">\n",
       "  <thead>\n",
       "    <tr style=\"text-align: right;\">\n",
       "      <th></th>\n",
       "      <th>x0</th>\n",
       "      <th>x1</th>\n",
       "      <th>x2</th>\n",
       "      <th>x3</th>\n",
       "      <th>x4</th>\n",
       "      <th>x5</th>\n",
       "      <th>y</th>\n",
       "    </tr>\n",
       "  </thead>\n",
       "  <tbody>\n",
       "    <tr>\n",
       "      <th>0</th>\n",
       "      <td>-0.333489</td>\n",
       "      <td>-0.770208</td>\n",
       "      <td>-2.697486</td>\n",
       "      <td>-0.628563</td>\n",
       "      <td>-1.277720</td>\n",
       "      <td>100.0</td>\n",
       "      <td>2</td>\n",
       "    </tr>\n",
       "    <tr>\n",
       "      <th>1</th>\n",
       "      <td>-0.787124</td>\n",
       "      <td>1.230800</td>\n",
       "      <td>1.415472</td>\n",
       "      <td>-0.805927</td>\n",
       "      <td>0.175115</td>\n",
       "      <td>100.0</td>\n",
       "      <td>1</td>\n",
       "    </tr>\n",
       "    <tr>\n",
       "      <th>2</th>\n",
       "      <td>0.781197</td>\n",
       "      <td>-0.856227</td>\n",
       "      <td>2.138879</td>\n",
       "      <td>2.495417</td>\n",
       "      <td>0.868192</td>\n",
       "      <td>100.0</td>\n",
       "      <td>1</td>\n",
       "    </tr>\n",
       "    <tr>\n",
       "      <th>3</th>\n",
       "      <td>1.895093</td>\n",
       "      <td>-0.885939</td>\n",
       "      <td>1.946352</td>\n",
       "      <td>-2.082747</td>\n",
       "      <td>0.064914</td>\n",
       "      <td>100.0</td>\n",
       "      <td>1</td>\n",
       "    </tr>\n",
       "    <tr>\n",
       "      <th>4</th>\n",
       "      <td>0.689091</td>\n",
       "      <td>-5.091299</td>\n",
       "      <td>-2.218682</td>\n",
       "      <td>0.330767</td>\n",
       "      <td>3.012755</td>\n",
       "      <td>100.0</td>\n",
       "      <td>2</td>\n",
       "    </tr>\n",
       "  </tbody>\n",
       "</table>\n",
       "</div>"
      ],
      "text/plain": [
       "         x0        x1        x2        x3        x4     x5  y\n",
       "0 -0.333489 -0.770208 -2.697486 -0.628563 -1.277720  100.0  2\n",
       "1 -0.787124  1.230800  1.415472 -0.805927  0.175115  100.0  1\n",
       "2  0.781197 -0.856227  2.138879  2.495417  0.868192  100.0  1\n",
       "3  1.895093 -0.885939  1.946352 -2.082747  0.064914  100.0  1\n",
       "4  0.689091 -5.091299 -2.218682  0.330767  3.012755  100.0  2"
      ]
     },
     "execution_count": 57,
     "metadata": {},
     "output_type": "execute_result"
    }
   ],
   "source": [
    "y = df[\"y\"].values\n",
    "X = df.drop(columns=[\"y\"], inplace=False).values\n",
    "\n",
    "y_test = df_test[\"y\"].values\n",
    "X_test = df_test.drop(columns=[\"y\"], inplace=False).values\n",
    "\n",
    "df.head()"
   ]
  },
  {
   "cell_type": "markdown",
   "id": "93dae00e",
   "metadata": {},
   "source": [
    "Here's a simple plot of the first two features, colored by class. Visualizing the dataset may be helpful to you in this assignment, but can be tricky with 6-dimensional features!"
   ]
  },
  {
   "cell_type": "code",
   "execution_count": 33,
   "id": "ee220714",
   "metadata": {},
   "outputs": [
    {
     "data": {
      "text/plain": [
       "<matplotlib.collections.PathCollection at 0x7fbc4c1bfaf0>"
      ]
     },
     "execution_count": 33,
     "metadata": {},
     "output_type": "execute_result"
    },
    {
     "data": {
      "image/png": "[encoded data removed]",
      "text/plain": [
       "<Figure size 640x480 with 1 Axes>"
      ]
     },
     "metadata": {},
     "output_type": "display_data"
    }
   ],
   "source": [
    "plt.scatter(X[:,2], X[:,3], c=list(y))"
   ]
  },
  {
   "cell_type": "markdown",
   "id": "e22b2088",
   "metadata": {},
   "source": [
    "# Improve ML Model via data-centric techniques"
   ]
  },
  {
   "cell_type": "markdown",
   "id": "7f90b04e",
   "metadata": {},
   "source": [
    "We train a simple neural network model (Multi-Layer Perceptron classifier) and evaluate it on the given test set. \n",
    "Note that the evaluation metric used is `balanced_accuracy`. This is the accuracy amongst all examples in a given class, averaged over all classes, which better represents performance on minority classes.\n",
    "\n",
    "You should never change the test data labels `y_test` in this lab, nor the neural network model. You may change the training data `X`, `y` as you see fit, and update `X_test` accordingly so your model is able to make predictions on it."
   ]
  },
  {
   "cell_type": "code",
   "execution_count": 34,
   "id": "e44ea5c3",
   "metadata": {},
   "outputs": [],
   "source": [
    "def train_evaluate_model(X, y, X_test, y_test):\n",
    "    model = MLPClassifier(early_stopping=True, random_state=SEED)\n",
    "    model.fit(X, y)\n",
    "    predictions = model.predict(X_test)\n",
    "    acc = balanced_accuracy_score(y_true=y_test, y_pred=predictions)\n",
    "    print(f\"Balanced accuracy = {acc}\")\n",
    "    return predictions"
   ]
  },
  {
   "cell_type": "markdown",
   "id": "d967913e",
   "metadata": {},
   "source": [
    "A baseline version of the model is trained on the original given data:"
   ]
  },
  {
   "cell_type": "code",
   "execution_count": 35,
   "id": "0bda77e4",
   "metadata": {},
   "outputs": [
    {
     "name": "stdout",
     "output_type": "stream",
     "text": [
      "Balanced accuracy = 0.5759397707696671\n"
     ]
    }
   ],
   "source": [
    "predictions = train_evaluate_model(X, y, X_test, y_test)"
   ]
  },
  {
   "cell_type": "markdown",
   "id": "10c576fb",
   "metadata": {},
   "source": [
    "# Exercise\n",
    "\n",
    "Your goal is to produce a version of this same model that has much better test accuracy! \n",
    "You should accomplish this by changing `X` and `y` as you see fit. Consider various ideas presented in the lecture and look through the data yourself to see if other ideas come to mind! Greater than 80% test accuracy is achievable without modifying the model at all. If you choose to drop/add features to `X` or renormalize some values, then you'll want to apply these operations to `X_test` as well."
   ]
  },
  {
   "cell_type": "code",
   "execution_count": 64,
   "id": "56097167",
   "metadata": {},
   "outputs": [
    {
     "name": "stdout",
     "output_type": "stream",
     "text": [
      "Balanced accuracy = 0.5715291371313923\n",
      "number of issues in training set:  289\n"
     ]
    }
   ],
   "source": [
    "# Compute label issues\n",
    "\n",
    "import cleanlab\n",
    "from sklearn.model_selection import cross_val_predict\n",
    "\n",
    "model = MLPClassifier(early_stopping=True, random_state=SEED)\n",
    "pred_probs = cross_val_predict(model, X, y, cv=5, method=\"predict_proba\")\n",
    "\n",
    "cl_issue_idx = cleanlab.filter.find_label_issues(y, pred_probs, return_indices_ranked_by='self_confidence')\n",
    "\n",
    "df_clean = df.drop(cl_issue_idx, inplace=False)\n",
    "y_clean = df_clean[\"y\"].values\n",
    "X_clean = df_clean.drop(columns=[\"y\"], inplace=False).values\n",
    "\n",
    "predictions = train_evaluate_model(X_clean, y_clean, X_test, y_test)\n",
    "print(\"number of issues in training set: \", len(cl_issue_idx))"
   ]
  },
  {
   "cell_type": "code",
   "execution_count": 68,
   "metadata": {},
   "outputs": [
    {
     "name": "stdout",
     "output_type": "stream",
     "text": [
      "issue with respective to labels ['30.337078651685395%', '4.418103448275862%', '8.333333333333332%']\n"
     ]
    }
   ],
   "source": [
    "counts_per_label = np.unique(df['y'], return_counts=True)[1]\n",
    "issues_per_label = np.unique(df.loc[cl_issue_idx, 'y'], return_counts=True)[1]\n",
    "print(\"issue with respective to labels\", [str((i/j)*100) + '%' for i,j in zip(issues_per_label, counts_per_label)] )\n"
   ]
  },
  {
   "attachments": {},
   "cell_type": "markdown",
   "id": "7b4bd9a8",
   "metadata": {},
   "source": [
    "Seems a class less in number is giving more problems\n",
    "1. Check the number of labels for all datapoints\n",
    "2. CHeck the order"
   ]
  },
  {
   "cell_type": "code",
   "execution_count": 69,
   "id": "4fea84f1",
   "metadata": {},
   "outputs": [
    {
     "name": "stdout",
     "output_type": "stream",
     "text": [
      "unique with counts (array([0, 1, 2]), array([ 178, 1856, 1836]))\n",
      "indices of label 1 [[   1]\n",
      " [   2]\n",
      " [   3]\n",
      " ...\n",
      " [3866]\n",
      " [3868]\n",
      " [3869]]\n",
      "indices of label 2 [[   0]\n",
      " [   4]\n",
      " [   6]\n",
      " ...\n",
      " [3863]\n",
      " [3864]\n",
      " [3867]]\n"
     ]
    }
   ],
   "source": [
    "print(\"unique with counts\", np.unique(y, return_counts=True))\n",
    "print(\"indices of label 1\", np.argwhere(y == 1))\n",
    "print(\"indices of label 2\", np.argwhere(y == 2))\n"
   ]
  },
  {
   "cell_type": "code",
   "execution_count": 84,
   "id": "42178789",
   "metadata": {},
   "outputs": [
    {
     "name": "stdout",
     "output_type": "stream",
     "text": [
      "number of labels in cleaned dataset [ 124 1774 1683]\n",
      "number of labels in balanced dataset [1612 1774 1683]\n",
      "Balanced accuracy = 0.7890203028217698\n"
     ]
    }
   ],
   "source": [
    "# Use clean dataset and oversample label '0' to a 1700\n",
    "print(\"number of labels in cleaned dataset\", np.unique(y_clean, return_counts=True)[1])\n",
    "\n",
    "df_label_0_oversampled = pd.concat([df_clean[df_clean['y'] == 0]]*12, ignore_index=True)\n",
    "df_class_balanced = pd.concat([df_clean, df_label_0_oversampled], ignore_index=True)\n",
    "\n",
    "print(\"number of labels in balanced dataset\", np.unique(df_class_balanced['y'].values, return_counts=True)[1])\n",
    "\n",
    "y_balanced = df_class_balanced[\"y\"].values\n",
    "X_balanced = df_class_balanced.drop(columns=[\"y\"], inplace=False).values\n",
    "\n",
    "predictions = train_evaluate_model(X_balanced, y_balanced, X_test, y_test)\n",
    "\n"
   ]
  },
  {
   "cell_type": "code",
   "execution_count": 91,
   "id": "e05bbc73",
   "metadata": {},
   "outputs": [
    {
     "name": "stdout",
     "output_type": "stream",
     "text": [
      "Collecting imbalanced-learn\n",
      "  Downloading imbalanced_learn-0.10.1-py3-none-any.whl (226 kB)\n",
      "\u001b[2K     \u001b[90m━━━━━━━━━━━━━━━━━━━━━━━━━━━━━━━━━━━━━━━\u001b[0m \u001b[32m226.0/226.0 kB\u001b[0m \u001b[31m8.5 MB/s\u001b[0m eta \u001b[36m0:00:00\u001b[0m\n",
      "\u001b[?25hRequirement already satisfied: joblib>=1.1.1 in /home/codespace/.local/lib/python3.10/site-packages (from imbalanced-learn) (1.2.0)\n",
      "Requirement already satisfied: scikit-learn>=1.0.2 in /home/codespace/.local/lib/python3.10/site-packages (from imbalanced-learn) (1.2.1)\n",
      "Requirement already satisfied: threadpoolctl>=2.0.0 in /home/codespace/.local/lib/python3.10/site-packages (from imbalanced-learn) (3.1.0)\n",
      "Requirement already satisfied: numpy>=1.17.3 in /home/codespace/.local/lib/python3.10/site-packages (from imbalanced-learn) (1.24.2)\n",
      "Requirement already satisfied: scipy>=1.3.2 in /home/codespace/.local/lib/python3.10/site-packages (from imbalanced-learn) (1.10.1)\n",
      "Installing collected packages: imbalanced-learn\n",
      "Successfully installed imbalanced-learn-0.10.1\n"
     ]
    }
   ],
   "source": [
    "# Try using smote\n",
    "!pip install imbalanced-learn"
   ]
  },
  {
   "cell_type": "code",
   "execution_count": 93,
   "id": "28b09a61",
   "metadata": {},
   "outputs": [
    {
     "name": "stdout",
     "output_type": "stream",
     "text": [
      "Balanced accuracy = 0.799441790755699\n"
     ]
    }
   ],
   "source": [
    "from imblearn.over_sampling import SMOTE\n",
    "\n",
    "oversample = SMOTE()\n",
    "X_smote, y_smote = oversample.fit_resample(X, y)\n",
    "\n",
    "predictions = train_evaluate_model(X_smote, y_smote, X_test, y_test)\n"
   ]
  },
  {
   "cell_type": "code",
   "execution_count": 94,
   "id": "dc92bf59",
   "metadata": {},
   "outputs": [
    {
     "name": "stdout",
     "output_type": "stream",
     "text": [
      "Balanced accuracy = 0.8087364034861094\n"
     ]
    }
   ],
   "source": [
    "oversample = SMOTE()\n",
    "X_smote_clean, y_smote_clean = oversample.fit_resample(X_clean, y_clean)\n",
    "\n",
    "predictions = train_evaluate_model(X_smote_clean, y_smote_clean, X_test, y_test)"
   ]
  },
  {
   "cell_type": "code",
   "execution_count": 95,
   "id": "09764f5e",
   "metadata": {},
   "outputs": [
    {
     "name": "stdout",
     "output_type": "stream",
     "text": [
      "Balanced accuracy = 0.8062561617793954\n"
     ]
    }
   ],
   "source": [
    "# remove outliers for simple oversampling with cleaned data\n",
    "\n",
    "from cleanlab.outlier import OutOfDistribution\n",
    "\n",
    "n_outlier = 100  # try different values to determine good one\n",
    "\n",
    "knn = sklearn.neighbors.NearestNeighbors(n_neighbors=10).fit(X_balanced)\n",
    "ood = OutOfDistribution({\"knn\": knn})  # find outliers based on Euclidean nearest neighbors rather than cleanlab's cosine distance default\n",
    "ood_scores = ood.score(features=X_balanced)\n",
    "outlier_examples = np.argsort(ood_scores)[:n_outlier]\n",
    "outlier_examples = [out for out in outlier_examples]\n",
    "\n",
    "X_outliers_removed = np.delete(X_balanced, outlier_examples, axis=0)\n",
    "y_outliers_removed =  np.delete(y_balanced, outlier_examples)\n",
    "\n",
    "predictions = train_evaluate_model(X_outliers_removed, y_outliers_removed, X_test, y_test)\n",
    "\n"
   ]
  },
  {
   "cell_type": "code",
   "execution_count": 101,
   "id": "08bca744",
   "metadata": {},
   "outputs": [
    {
     "name": "stdout",
     "output_type": "stream",
     "text": [
      "Balanced accuracy = 0.808359088980049\n"
     ]
    }
   ],
   "source": [
    "# remove outliers for SMOTE oversampling with raw data\n",
    "\n",
    "from cleanlab.outlier import OutOfDistribution\n",
    "\n",
    "n_outlier = 100  # try different values to determine good one\n",
    "\n",
    "knn = sklearn.neighbors.NearestNeighbors(n_neighbors=10).fit(X_smote)\n",
    "ood = OutOfDistribution({\"knn\": knn})  # find outliers based on Euclidean nearest neighbors rather than cleanlab's cosine distance default\n",
    "ood_scores = ood.score(features=X_smote)\n",
    "outlier_examples = np.argsort(ood_scores)[:n_outlier]\n",
    "outlier_examples = [out for out in outlier_examples]\n",
    "\n",
    "X_outliers_removed = np.delete(X_smote, outlier_examples, axis=0)\n",
    "y_outliers_removed =  np.delete(y_smote, outlier_examples)\n",
    "\n",
    "predictions = train_evaluate_model(X_outliers_removed, y_outliers_removed, X_test, y_test)"
   ]
  },
  {
   "cell_type": "code",
   "execution_count": 100,
   "id": "b63f1a3e",
   "metadata": {},
   "outputs": [
    {
     "name": "stdout",
     "output_type": "stream",
     "text": [
      "Balanced accuracy = 0.8106828365896579\n"
     ]
    }
   ],
   "source": [
    "# remove outliers for SMOTE oversampling with cleaned data\n",
    "\n",
    "from cleanlab.outlier import OutOfDistribution\n",
    "\n",
    "n_outlier = 100  # try different values to determine good one\n",
    "\n",
    "knn = sklearn.neighbors.NearestNeighbors(n_neighbors=10).fit(X_smote_clean)\n",
    "ood = OutOfDistribution({\"knn\": knn})  # find outliers based on Euclidean nearest neighbors rather than cleanlab's cosine distance default\n",
    "ood_scores = ood.score(features=X_smote_clean)\n",
    "outlier_examples = np.argsort(ood_scores)[:n_outlier]\n",
    "outlier_examples = [out for out in outlier_examples]\n",
    "\n",
    "X_outliers_removed = np.delete(X_smote_clean, outlier_examples, axis=0)\n",
    "y_outliers_removed =  np.delete(y_smote_clean, outlier_examples)\n",
    "\n",
    "predictions = train_evaluate_model(X_outliers_removed, y_outliers_removed, X_test, y_test)"
   ]
  }
 ],
 "metadata": {
  "kernelspec": {
   "display_name": "Python 3",
   "language": "python",
   "name": "python3"
  },
  "language_info": {
   "codemirror_mode": {
    "name": "ipython",
    "version": 3
   },
   "file_extension": ".py",
   "mimetype": "text/x-python",
   "name": "python",
   "nbconvert_exporter": "python",
   "pygments_lexer": "ipython3",
   "version": "3.10.4"
  }
 },
 "nbformat": 4,
 "nbformat_minor": 5
}
